{
  "nbformat": 4,
  "nbformat_minor": 0,
  "metadata": {
    "colab": {
      "name": "ccids2017Try2.ipynb",
      "version": "0.3.2",
      "provenance": []
    },
    "kernelspec": {
      "name": "python3",
      "display_name": "Python 3"
    }
  },
  "cells": [
    {
      "cell_type": "code",
      "metadata": {
        "id": "BWK5yxcGpFPZ",
        "colab_type": "code",
        "colab": {}
      },
      "source": [
        "import pandas as pd\n",
        "import tensorflow as tf"
      ],
      "execution_count": 0,
      "outputs": []
    },
    {
      "cell_type": "code",
      "metadata": {
        "id": "OLNMtcjCGHuB",
        "colab_type": "code",
        "colab": {}
      },
      "source": [
        ""
      ],
      "execution_count": 0,
      "outputs": []
    },
    {
      "cell_type": "code",
      "metadata": {
        "id": "eS0RbwAN_fqP",
        "colab_type": "code",
        "outputId": "6022b1cb-c954-49d6-bf16-d4bd1f4dfaf9",
        "colab": {
          "base_uri": "https://localhost:8080/",
          "height": 51
        }
      },
      "source": [
        "%reset"
      ],
      "execution_count": 0,
      "outputs": [
        {
          "output_type": "stream",
          "text": [
            "Once deleted, variables cannot be recovered. Proceed (y/[n])? \n",
            "Nothing done.\n"
          ],
          "name": "stdout"
        }
      ]
    },
    {
      "cell_type": "code",
      "metadata": {
        "id": "FuubmzHvs0id",
        "colab_type": "code",
        "colab": {}
      },
      "source": [
        "df = pd.read_csv(\"processed_train.csv\", \n",
        "                       names=[\"ip\", \"app\", \"device\", \"os\", \"channel\", \"click_time\", \"attributed_time\", \"is_attributed\"], \n",
        "                      parse_dates=[5]\n",
        ")"
      ],
      "execution_count": 0,
      "outputs": []
    },
    {
      "cell_type": "code",
      "metadata": {
        "id": "Vqr-wsEr9YMJ",
        "colab_type": "code",
        "colab": {}
      },
      "source": [
        "df['day'] = df['click_time'].dt.day.astype('uint8')\n",
        "df['hour'] = df['click_time'].dt.hour.astype('uint8')\n",
        "df['minute'] = df['click_time'].dt.minute.astype('uint8')\n",
        "df['second'] = df['click_time'].dt.second.astype('uint8')"
      ],
      "execution_count": 0,
      "outputs": []
    },
    {
      "cell_type": "code",
      "metadata": {
        "id": "Sqly5fTftBwz",
        "colab_type": "code",
        "colab": {}
      },
      "source": [
        "ATTRIBUTION_CATEGORIES = [        \n",
        "    # V1 Features #\n",
        "    ###############\n",
        "    ['ip'], ['app'], ['device'], ['os'], ['channel'],\n",
        "    \n",
        "    # V2 Features #\n",
        "    ###############\n",
        "    ['app', 'channel'],\n",
        "    ['app', 'os'],\n",
        "    ['app', 'device'],\n",
        "    \n",
        "    # V3 Features #\n",
        "    ###############\n",
        "    ['channel', 'os'],\n",
        "    ['channel', 'device'],\n",
        "    ['os', 'device']\n",
        "]"
      ],
      "execution_count": 0,
      "outputs": []
    },
    {
      "cell_type": "code",
      "metadata": {
        "id": "qKOU-5cjzzE0",
        "colab_type": "code",
        "outputId": "580bf4f2-1483-4070-f9bb-e46021f93807",
        "colab": {
          "base_uri": "https://localhost:8080/",
          "height": 411
        }
      },
      "source": [
        "import numpy as np\n",
        "freqs = {}\n",
        "for cols in ATTRIBUTION_CATEGORIES:\n",
        "    \n",
        "    # New feature name\n",
        "    new_feature = '_'.join(cols)+'_confRate'    \n",
        "    \n",
        "    # Perform the groupby\n",
        "    group_object = df.groupby(cols)\n",
        "    \n",
        "    # Group sizes    \n",
        "    group_sizes = group_object.size()\n",
        "    \n",
        "    log_group = np.log(100000) # 1000 views -> 60% confidence, 100 views -> 40% confidence \n",
        "    print(\">> Calculating confidence-weighted rate for: {}.\\n   Saving to: {}. Group Max /Mean / Median / Min: {} / {} / {} / {}\".format(\n",
        "        cols, new_feature, \n",
        "        group_sizes.max(), \n",
        "        np.round(group_sizes.mean(), 2),\n",
        "        np.round(group_sizes.median(), 2),\n",
        "        group_sizes.min()\n",
        "    ))\n",
        "    \n",
        "    # Aggregation function\n",
        "    def rate_calculation(x):\n",
        "        \"\"\"Calculate the attributed rate. Scale by confidence\"\"\"\n",
        "        rate = x.sum() / float(x.count())\n",
        "        conf = np.min([1, np.log(x.count()) / log_group])\n",
        "        return rate * conf\n",
        "    \n",
        "    # Perform the merge\n",
        "    df = df.merge(\n",
        "        group_object['is_attributed']. \\\n",
        "            apply(rate_calculation). \\\n",
        "            reset_index(). \\\n",
        "            rename( \n",
        "                index=str,\n",
        "                columns={'is_attributed': new_feature}\n",
        "            )[cols + [new_feature]],\n",
        "        on=cols, how='left'\n",
        "    )"
      ],
      "execution_count": 0,
      "outputs": [
        {
          "output_type": "stream",
          "text": [
            ">> Calculating confidence-weighted rate for: ['ip'].\n",
            "   Saving to: ip_confRate. Group Max /Mean / Median / Min: 6693 / 12.28 / 4.0 / 1\n",
            ">> Calculating confidence-weighted rate for: ['app'].\n",
            "   Saving to: app_confRate. Group Max /Mean / Median / Min: 183486 / 3558.72 / 8.0 / 1\n",
            ">> Calculating confidence-weighted rate for: ['device'].\n",
            "   Saving to: device_confRate. Group Max /Mean / Median / Min: 942816 / 2409.64 / 1.0 / 1\n",
            ">> Calculating confidence-weighted rate for: ['os'].\n",
            "   Saving to: os_confRate. Group Max /Mean / Median / Min: 238974 / 4926.11 / 16.0 / 1\n",
            ">> Calculating confidence-weighted rate for: ['channel'].\n",
            "   Saving to: channel_confRate. Group Max /Mean / Median / Min: 81188 / 5847.95 / 1609.0 / 1\n",
            ">> Calculating confidence-weighted rate for: ['app', 'channel'].\n",
            "   Saving to: app_channel_confRate. Group Max /Mean / Median / Min: 78159 / 1526.72 / 25.0 / 1\n",
            ">> Calculating confidence-weighted rate for: ['app', 'os'].\n",
            "   Saving to: app_os_confRate. Group Max /Mean / Median / Min: 44583 / 255.62 / 5.0 / 1\n",
            ">> Calculating confidence-weighted rate for: ['app', 'device'].\n",
            "   Saving to: app_device_confRate. Group Max /Mean / Median / Min: 177118 / 909.92 / 1.0 / 1\n",
            ">> Calculating confidence-weighted rate for: ['channel', 'os'].\n",
            "   Saving to: channel_os_confRate. Group Max /Mean / Median / Min: 19155 / 126.26 / 10.0 / 1\n",
            ">> Calculating confidence-weighted rate for: ['channel', 'device'].\n",
            "   Saving to: channel_device_confRate. Group Max /Mean / Median / Min: 78340 / 945.18 / 2.0 / 1\n",
            ">> Calculating confidence-weighted rate for: ['os', 'device'].\n",
            "   Saving to: os_device_confRate. Group Max /Mean / Median / Min: 233471 / 1259.45 / 2.0 / 1\n"
          ],
          "name": "stdout"
        }
      ]
    },
    {
      "cell_type": "code",
      "metadata": {
        "id": "oGAj-XUbLJcf",
        "colab_type": "code",
        "colab": {}
      },
      "source": [
        "df.loc[df['is_attributed'] == 0, 'Normal'] = 1\n",
        "df.loc[df['is_attributed'] == 1, 'Normal'] = 0"
      ],
      "execution_count": 0,
      "outputs": []
    },
    {
      "cell_type": "code",
      "metadata": {
        "id": "iJOxfI6QQEV3",
        "colab_type": "code",
        "colab": {}
      },
      "source": [
        "df = df.drop(columns = ['click_time', 'attributed_time'])"
      ],
      "execution_count": 0,
      "outputs": []
    },
    {
      "cell_type": "code",
      "metadata": {
        "id": "Kj-TmuT0RTFC",
        "colab_type": "code",
        "colab": {}
      },
      "source": [
        "fraud = df[df['is_attributed'] == 1]"
      ],
      "execution_count": 0,
      "outputs": []
    },
    {
      "cell_type": "code",
      "metadata": {
        "id": "4mk8x96_TquF",
        "colab_type": "code",
        "colab": {}
      },
      "source": [
        "normal = df[df['is_attributed'] == 0]"
      ],
      "execution_count": 0,
      "outputs": []
    },
    {
      "cell_type": "code",
      "metadata": {
        "id": "jQQx8-UrYIiE",
        "colab_type": "code",
        "colab": {}
      },
      "source": [
        "X_train = fraud.sample(frac=0.8)"
      ],
      "execution_count": 0,
      "outputs": []
    },
    {
      "cell_type": "code",
      "metadata": {
        "id": "sfd_jrF3ZN4J",
        "colab_type": "code",
        "colab": {}
      },
      "source": [
        "count_Frauds = len(X_train)"
      ],
      "execution_count": 0,
      "outputs": []
    },
    {
      "cell_type": "code",
      "metadata": {
        "id": "cSG6uZzzZX4X",
        "colab_type": "code",
        "colab": {}
      },
      "source": [
        "X_train = pd.concat([X_train, normal.sample(frac = 0.8)], axis = 0)"
      ],
      "execution_count": 0,
      "outputs": []
    },
    {
      "cell_type": "code",
      "metadata": {
        "id": "_NjOIijeYOmk",
        "colab_type": "code",
        "colab": {}
      },
      "source": [
        "X_test = df.loc[~df.index.isin(X_train.index)]"
      ],
      "execution_count": 0,
      "outputs": []
    },
    {
      "cell_type": "code",
      "metadata": {
        "id": "YA7vFbrhZdAt",
        "colab_type": "code",
        "colab": {}
      },
      "source": [
        "from sklearn.utils import shuffle"
      ],
      "execution_count": 0,
      "outputs": []
    },
    {
      "cell_type": "code",
      "metadata": {
        "id": "zGqHoWKEZfD2",
        "colab_type": "code",
        "colab": {}
      },
      "source": [
        "X_train = shuffle(X_train)\n",
        "X_test = shuffle(X_test)\n"
      ],
      "execution_count": 0,
      "outputs": []
    },
    {
      "cell_type": "code",
      "metadata": {
        "id": "Wnp-D2TUZjjc",
        "colab_type": "code",
        "colab": {}
      },
      "source": [
        "y_train = X_train[\"is_attributed\"]\n"
      ],
      "execution_count": 0,
      "outputs": []
    },
    {
      "cell_type": "code",
      "metadata": {
        "id": "Wv6B2zDJjfmh",
        "colab_type": "code",
        "colab": {}
      },
      "source": [
        "y_train = pd.concat([y_train, X_train[\"Normal\"]], axis=1)"
      ],
      "execution_count": 0,
      "outputs": []
    },
    {
      "cell_type": "code",
      "metadata": {
        "id": "eaCPOylBbxoM",
        "colab_type": "code",
        "colab": {}
      },
      "source": [
        "y_test = X_test[\"is_attributed\"]"
      ],
      "execution_count": 0,
      "outputs": []
    },
    {
      "cell_type": "code",
      "metadata": {
        "id": "p2my4Ybhmlb5",
        "colab_type": "code",
        "colab": {}
      },
      "source": [
        "y_test = pd.concat([y_test, X_test.Normal], axis=1)"
      ],
      "execution_count": 0,
      "outputs": []
    },
    {
      "cell_type": "code",
      "metadata": {
        "id": "aHVkxrK2b3M1",
        "colab_type": "code",
        "colab": {}
      },
      "source": [
        "ratio = len(X_train)/count_Frauds"
      ],
      "execution_count": 0,
      "outputs": []
    },
    {
      "cell_type": "code",
      "metadata": {
        "id": "RnjxTpEidXNe",
        "colab_type": "code",
        "outputId": "b9204615-f656-4829-8ede-f98a5e2a1554",
        "colab": {
          "base_uri": "https://localhost:8080/",
          "height": 34
        }
      },
      "source": [
        "ratio"
      ],
      "execution_count": 0,
      "outputs": [
        {
          "output_type": "execute_result",
          "data": {
            "text/plain": [
              "407.955124936257"
            ]
          },
          "metadata": {
            "tags": []
          },
          "execution_count": 97
        }
      ]
    },
    {
      "cell_type": "code",
      "metadata": {
        "id": "HacmEkXIm25x",
        "colab_type": "code",
        "outputId": "5c300f0d-426b-4a98-8b38-814583770129",
        "colab": {
          "base_uri": "https://localhost:8080/",
          "height": 224
        }
      },
      "source": [
        "X_train.head()"
      ],
      "execution_count": 0,
      "outputs": [
        {
          "output_type": "execute_result",
          "data": {
            "text/html": [
              "<div>\n",
              "<style scoped>\n",
              "    .dataframe tbody tr th:only-of-type {\n",
              "        vertical-align: middle;\n",
              "    }\n",
              "\n",
              "    .dataframe tbody tr th {\n",
              "        vertical-align: top;\n",
              "    }\n",
              "\n",
              "    .dataframe thead th {\n",
              "        text-align: right;\n",
              "    }\n",
              "</style>\n",
              "<table border=\"1\" class=\"dataframe\">\n",
              "  <thead>\n",
              "    <tr style=\"text-align: right;\">\n",
              "      <th></th>\n",
              "      <th>ip</th>\n",
              "      <th>app</th>\n",
              "      <th>device</th>\n",
              "      <th>os</th>\n",
              "      <th>channel</th>\n",
              "      <th>is_attributed</th>\n",
              "      <th>day</th>\n",
              "      <th>hour</th>\n",
              "      <th>minute</th>\n",
              "      <th>second</th>\n",
              "      <th>ip_confRate</th>\n",
              "      <th>app_confRate</th>\n",
              "      <th>device_confRate</th>\n",
              "      <th>os_confRate</th>\n",
              "      <th>channel_confRate</th>\n",
              "      <th>app_channel_confRate</th>\n",
              "      <th>app_os_confRate</th>\n",
              "      <th>app_device_confRate</th>\n",
              "      <th>channel_os_confRate</th>\n",
              "      <th>channel_device_confRate</th>\n",
              "      <th>os_device_confRate</th>\n",
              "      <th>Normal</th>\n",
              "    </tr>\n",
              "  </thead>\n",
              "  <tbody>\n",
              "    <tr>\n",
              "      <th>144109</th>\n",
              "      <td>5348</td>\n",
              "      <td>15</td>\n",
              "      <td>1</td>\n",
              "      <td>19</td>\n",
              "      <td>480</td>\n",
              "      <td>0</td>\n",
              "      <td>9</td>\n",
              "      <td>14</td>\n",
              "      <td>31</td>\n",
              "      <td>27</td>\n",
              "      <td>0.001829</td>\n",
              "      <td>0.000218</td>\n",
              "      <td>0.001749</td>\n",
              "      <td>0.001753</td>\n",
              "      <td>0.000234</td>\n",
              "      <td>0.000504</td>\n",
              "      <td>0.000161</td>\n",
              "      <td>0.000226</td>\n",
              "      <td>0.000191</td>\n",
              "      <td>0.000236</td>\n",
              "      <td>0.001782</td>\n",
              "      <td>1.0</td>\n",
              "    </tr>\n",
              "    <tr>\n",
              "      <th>729678</th>\n",
              "      <td>88680</td>\n",
              "      <td>15</td>\n",
              "      <td>1</td>\n",
              "      <td>13</td>\n",
              "      <td>265</td>\n",
              "      <td>0</td>\n",
              "      <td>8</td>\n",
              "      <td>17</td>\n",
              "      <td>34</td>\n",
              "      <td>29</td>\n",
              "      <td>0.000000</td>\n",
              "      <td>0.000218</td>\n",
              "      <td>0.001749</td>\n",
              "      <td>0.001590</td>\n",
              "      <td>0.000121</td>\n",
              "      <td>0.000347</td>\n",
              "      <td>0.000226</td>\n",
              "      <td>0.000226</td>\n",
              "      <td>0.000115</td>\n",
              "      <td>0.000128</td>\n",
              "      <td>0.001639</td>\n",
              "      <td>1.0</td>\n",
              "    </tr>\n",
              "    <tr>\n",
              "      <th>310137</th>\n",
              "      <td>95752</td>\n",
              "      <td>12</td>\n",
              "      <td>1</td>\n",
              "      <td>19</td>\n",
              "      <td>245</td>\n",
              "      <td>0</td>\n",
              "      <td>7</td>\n",
              "      <td>7</td>\n",
              "      <td>36</td>\n",
              "      <td>7</td>\n",
              "      <td>0.000000</td>\n",
              "      <td>0.000084</td>\n",
              "      <td>0.001749</td>\n",
              "      <td>0.001753</td>\n",
              "      <td>0.000019</td>\n",
              "      <td>0.000000</td>\n",
              "      <td>0.000057</td>\n",
              "      <td>0.000089</td>\n",
              "      <td>0.000000</td>\n",
              "      <td>0.000020</td>\n",
              "      <td>0.001782</td>\n",
              "      <td>1.0</td>\n",
              "    </tr>\n",
              "    <tr>\n",
              "      <th>222486</th>\n",
              "      <td>2720</td>\n",
              "      <td>11</td>\n",
              "      <td>1</td>\n",
              "      <td>19</td>\n",
              "      <td>122</td>\n",
              "      <td>0</td>\n",
              "      <td>8</td>\n",
              "      <td>14</td>\n",
              "      <td>45</td>\n",
              "      <td>54</td>\n",
              "      <td>0.000000</td>\n",
              "      <td>0.001371</td>\n",
              "      <td>0.001749</td>\n",
              "      <td>0.001753</td>\n",
              "      <td>0.000482</td>\n",
              "      <td>0.002042</td>\n",
              "      <td>0.001264</td>\n",
              "      <td>0.001390</td>\n",
              "      <td>0.000955</td>\n",
              "      <td>0.000500</td>\n",
              "      <td>0.001782</td>\n",
              "      <td>1.0</td>\n",
              "    </tr>\n",
              "    <tr>\n",
              "      <th>960993</th>\n",
              "      <td>70556</td>\n",
              "      <td>15</td>\n",
              "      <td>1</td>\n",
              "      <td>19</td>\n",
              "      <td>245</td>\n",
              "      <td>0</td>\n",
              "      <td>7</td>\n",
              "      <td>17</td>\n",
              "      <td>49</td>\n",
              "      <td>21</td>\n",
              "      <td>0.000000</td>\n",
              "      <td>0.000218</td>\n",
              "      <td>0.001749</td>\n",
              "      <td>0.001753</td>\n",
              "      <td>0.000019</td>\n",
              "      <td>0.000029</td>\n",
              "      <td>0.000161</td>\n",
              "      <td>0.000226</td>\n",
              "      <td>0.000000</td>\n",
              "      <td>0.000020</td>\n",
              "      <td>0.001782</td>\n",
              "      <td>1.0</td>\n",
              "    </tr>\n",
              "  </tbody>\n",
              "</table>\n",
              "</div>"
            ],
            "text/plain": [
              "           ip  app  device  ...  channel_device_confRate  os_device_confRate  Normal\n",
              "144109   5348   15       1  ...                 0.000236            0.001782     1.0\n",
              "729678  88680   15       1  ...                 0.000128            0.001639     1.0\n",
              "310137  95752   12       1  ...                 0.000020            0.001782     1.0\n",
              "222486   2720   11       1  ...                 0.000500            0.001782     1.0\n",
              "960993  70556   15       1  ...                 0.000020            0.001782     1.0\n",
              "\n",
              "[5 rows x 22 columns]"
            ]
          },
          "metadata": {
            "tags": []
          },
          "execution_count": 98
        }
      ]
    },
    {
      "cell_type": "code",
      "metadata": {
        "id": "-PxNnTJrm1fF",
        "colab_type": "code",
        "colab": {}
      },
      "source": [
        "X_train = X_train.drop(['is_attributed','Normal'], axis = 1)\n",
        "X_test = X_test.drop(['is_attributed','Normal'], axis = 1)"
      ],
      "execution_count": 0,
      "outputs": []
    },
    {
      "cell_type": "code",
      "metadata": {
        "id": "DC32euhUnd2p",
        "colab_type": "code",
        "colab": {}
      },
      "source": [
        "y_train['is_attributed'] *= ratio\n",
        "y_test['is_attributed'] *= ratio"
      ],
      "execution_count": 0,
      "outputs": []
    },
    {
      "cell_type": "code",
      "metadata": {
        "id": "tESojYmtdqBm",
        "colab_type": "code",
        "outputId": "b3ad877f-38d1-47f7-b97e-0043afb92a69",
        "colab": {
          "base_uri": "https://localhost:8080/",
          "height": 241
        }
      },
      "source": [
        "# Split the testing data into validation and testing sets\n",
        "split = int(len(y_test)/2)\n",
        "\n",
        "inputX = X_train.as_matrix()\n",
        "inputY = y_train.as_matrix()\n",
        "inputX_valid = X_test.as_matrix()[:split]\n",
        "inputY_valid = y_test.as_matrix()[:split]\n",
        "inputX_test = X_test.as_matrix()[split:]\n",
        "inputY_test = y_test.as_matrix()[split:]"
      ],
      "execution_count": 0,
      "outputs": [
        {
          "output_type": "stream",
          "text": [
            "/usr/local/lib/python3.6/dist-packages/ipykernel_launcher.py:3: FutureWarning: Method .as_matrix will be removed in a future version. Use .values instead.\n",
            "  This is separate from the ipykernel package so we can avoid doing imports until\n",
            "/usr/local/lib/python3.6/dist-packages/ipykernel_launcher.py:4: FutureWarning: Method .as_matrix will be removed in a future version. Use .values instead.\n",
            "  after removing the cwd from sys.path.\n",
            "/usr/local/lib/python3.6/dist-packages/ipykernel_launcher.py:5: FutureWarning: Method .as_matrix will be removed in a future version. Use .values instead.\n",
            "  \"\"\"\n",
            "/usr/local/lib/python3.6/dist-packages/ipykernel_launcher.py:6: FutureWarning: Method .as_matrix will be removed in a future version. Use .values instead.\n",
            "  \n",
            "/usr/local/lib/python3.6/dist-packages/ipykernel_launcher.py:7: FutureWarning: Method .as_matrix will be removed in a future version. Use .values instead.\n",
            "  import sys\n",
            "/usr/local/lib/python3.6/dist-packages/ipykernel_launcher.py:8: FutureWarning: Method .as_matrix will be removed in a future version. Use .values instead.\n",
            "  \n"
          ],
          "name": "stderr"
        }
      ]
    },
    {
      "cell_type": "code",
      "metadata": {
        "id": "S1_Oj_2Zeuut",
        "colab_type": "code",
        "outputId": "e91baac1-63d2-4374-9fe1-a7e5182bfe21",
        "colab": {
          "base_uri": "https://localhost:8080/",
          "height": 34
        }
      },
      "source": [
        "print(len(X_train.columns))"
      ],
      "execution_count": 0,
      "outputs": [
        {
          "output_type": "stream",
          "text": [
            "20\n"
          ],
          "name": "stdout"
        }
      ]
    },
    {
      "cell_type": "code",
      "metadata": {
        "id": "6baR55dHc4pi",
        "colab_type": "code",
        "outputId": "d6b05b1f-f5f8-4e2d-9a3f-05d7a51dc1e9",
        "colab": {
          "base_uri": "https://localhost:8080/",
          "height": 599
        }
      },
      "source": [
        "# Number of input nodes.\n",
        "input_nodes = 20 # 48\n",
        "\n",
        "multiplier = 1.5 \n",
        "\n",
        "# Number of nodes in each hidden layer\n",
        "hidden_nodes1 = 18\n",
        "hidden_nodes2 = round(hidden_nodes1 * multiplier)\n",
        "hidden_nodes3 = round(hidden_nodes2 * multiplier)\n",
        "\n",
        "# Percent of nodes to keep during dropout.\n",
        "pkeep = tf.placeholder(tf.float32)\n",
        "\n",
        "# input\n",
        "x = tf.placeholder(tf.float32, [None, input_nodes])\n",
        "\n",
        "# layer 1\n",
        "W1 = tf.Variable(tf.truncated_normal([input_nodes, hidden_nodes1], stddev = 0.15))\n",
        "b1 = tf.Variable(tf.zeros([hidden_nodes1]))\n",
        "y1 = tf.nn.sigmoid(tf.matmul(x, W1) + b1)\n",
        "\n",
        "# layer 2\n",
        "W2 = tf.Variable(tf.truncated_normal([hidden_nodes1, hidden_nodes2], stddev = 0.15))\n",
        "b2 = tf.Variable(tf.zeros([hidden_nodes2]))\n",
        "y2 = tf.nn.sigmoid(tf.matmul(y1, W2) + b2)\n",
        "\n",
        "# layer 3\n",
        "W3 = tf.Variable(tf.truncated_normal([hidden_nodes2, hidden_nodes3], stddev = 0.15)) \n",
        "b3 = tf.Variable(tf.zeros([hidden_nodes3]))\n",
        "y3 = tf.nn.sigmoid(tf.matmul(y2, W3) + b3)\n",
        "y3 = tf.nn.dropout(y3, rate=1-pkeep)\n",
        "\n",
        "# layer 4\n",
        "W4 = tf.Variable(tf.truncated_normal([hidden_nodes3, 2], stddev = 0.15)) \n",
        "b4 = tf.Variable(tf.zeros([2]))\n",
        "y4 = tf.nn.softmax(tf.matmul(y3, W4) + b4)\n",
        "\n",
        "# output\n",
        "y = y4\n",
        "y_ = tf.placeholder(tf.float32, [None, 2])\n",
        "\n",
        "\n",
        "# Parameters\n",
        "training_epochs = 1000\n",
        "training_dropout = 0.8\n",
        "display_step = 10 \n",
        "n_samples = y_train.shape[0]\n",
        "batch_size = 1024# 2048\n",
        "learning_rate = 0.01\n",
        "\n",
        "\n",
        "# Cost function: Cross Entropy\n",
        "cost = -tf.reduce_sum(y_ * tf.log(y))\n",
        "\n",
        "# We will optimize our model via AdamOptimizer\n",
        "optimizer = tf.train.AdamOptimizer(learning_rate).minimize(cost)\n",
        "\n",
        "# Correct prediction if the most likely value (Fraud or Normal) from softmax equals the target value.\n",
        "correct_prediction = tf.equal(tf.argmax(y,1), tf.argmax(y_,1))\n",
        "accuracy = tf.reduce_mean(tf.cast(correct_prediction, tf.float32))\n",
        "\n",
        "accuracy_summary = []\n",
        "cost_summary = []\n",
        "valid_accuracy_summary = [] \n",
        "valid_cost_summary = [] \n",
        "stop_early = 0 \n",
        "\n",
        "\n",
        "# Save the best weights so that they can be used to make the final predictions\n",
        "checkpoint = \"best_model.ckpt\"\n",
        "saver = tf.train.Saver(max_to_keep=1)\n",
        "\n",
        "# Initialize variables and tensorflow session\n",
        "with tf.Session() as sess:\n",
        "    sess.run(tf.global_variables_initializer())\n",
        "    \n",
        "    for epoch in range(training_epochs): \n",
        "        for batch in range(int(n_samples/batch_size)):\n",
        "            batch_x = inputX[batch*batch_size : (1+batch)*batch_size]\n",
        "            batch_y = inputY[batch*batch_size : (1+batch)*batch_size]\n",
        "\n",
        "            sess.run([optimizer], feed_dict={x: batch_x, \n",
        "                                             y_: batch_y,\n",
        "                                             pkeep: training_dropout})\n",
        "\n",
        "        # Display logs after every 10 epochs\n",
        "        if (epoch) % display_step == 0:\n",
        "            train_accuracy, newCost = sess.run([accuracy, cost], feed_dict={x: inputX, \n",
        "                                                                            y_: inputY,\n",
        "                                                                            pkeep: training_dropout})\n",
        "\n",
        "            valid_accuracy, valid_newCost = sess.run([accuracy, cost], feed_dict={x: inputX_valid, \n",
        "                                                                                  y_: inputY_valid,\n",
        "                                                                                  pkeep: 1})\n",
        "\n",
        "            print (\"Epoch:\", epoch,\n",
        "                   \"Acc =\", \"{:.5f}\".format(train_accuracy), \n",
        "                   \"Cost =\", \"{:.5f}\".format(newCost),\n",
        "                   \"Valid_Acc =\", \"{:.5f}\".format(valid_accuracy), \n",
        "                   \"Valid_Cost = \", \"{:.5f}\".format(valid_newCost))\n",
        "            \n",
        "            # Save the weights if these conditions are met.\n",
        "            if epoch > 0 and valid_accuracy > max(valid_accuracy_summary) and valid_accuracy > 0.995:\n",
        "                saver.save(sess, checkpoint)\n",
        "            \n",
        "            # Record the results of the model\n",
        "            accuracy_summary.append(train_accuracy)\n",
        "            cost_summary.append(newCost)\n",
        "            valid_accuracy_summary.append(valid_accuracy)\n",
        "            valid_cost_summary.append(valid_newCost)\n",
        "            \n",
        "            # If the model does not improve after 15 logs, stop the training.\n",
        "            if valid_accuracy < max(valid_accuracy_summary) and epoch > 100:\n",
        "                stop_early += 1\n",
        "                if stop_early == 20:\n",
        "                    break\n",
        "            else:\n",
        "                stop_early = 0\n",
        "            \n",
        "    print()\n",
        "    print(\"Optimization Finished!\")\n",
        "    print()"
      ],
      "execution_count": 0,
      "outputs": [
        {
          "output_type": "stream",
          "text": [
            "Epoch: 0 Acc = 0.00245 Cost = 1109913.00000 Valid_Acc = 0.00252 Valid_Cost =  140512.62500\n",
            "Epoch: 10 Acc = 0.00245 Cost = 1108838.12500 Valid_Acc = 0.00252 Valid_Cost =  140435.26562\n",
            "Epoch: 20 Acc = 0.00245 Cost = 1108821.50000 Valid_Acc = 0.00252 Valid_Cost =  140434.26562\n",
            "Epoch: 30 Acc = 0.00245 Cost = 1108819.75000 Valid_Acc = 0.00252 Valid_Cost =  140433.98438\n",
            "Epoch: 40 Acc = 0.00245 Cost = 1108819.25000 Valid_Acc = 0.00252 Valid_Cost =  140433.92188\n",
            "Epoch: 50 Acc = 0.00245 Cost = 1108819.50000 Valid_Acc = 0.00252 Valid_Cost =  140433.93750\n",
            "Epoch: 60 Acc = 0.00245 Cost = 1108819.37500 Valid_Acc = 0.00252 Valid_Cost =  140433.93750\n",
            "Epoch: 70 Acc = 0.00245 Cost = 1108819.37500 Valid_Acc = 0.00252 Valid_Cost =  140433.93750\n",
            "Epoch: 80 Acc = 0.00245 Cost = 1108819.37500 Valid_Acc = 0.00252 Valid_Cost =  140433.93750\n",
            "Epoch: 90 Acc = 0.00245 Cost = 1108819.37500 Valid_Acc = 0.00252 Valid_Cost =  140433.93750\n",
            "Epoch: 100 Acc = 0.00245 Cost = 1108819.37500 Valid_Acc = 0.00252 Valid_Cost =  140433.93750\n",
            "Epoch: 110 Acc = 0.00245 Cost = 1108819.37500 Valid_Acc = 0.00252 Valid_Cost =  140433.93750\n"
          ],
          "name": "stdout"
        },
        {
          "output_type": "error",
          "ename": "KeyboardInterrupt",
          "evalue": "ignored",
          "traceback": [
            "\u001b[0;31m---------------------------------------------------------------------------\u001b[0m",
            "\u001b[0;31mKeyboardInterrupt\u001b[0m                         Traceback (most recent call last)",
            "\u001b[0;32m<ipython-input-104-9b2812dbb9b8>\u001b[0m in \u001b[0;36m<module>\u001b[0;34m()\u001b[0m\n\u001b[1;32m     81\u001b[0m             sess.run([optimizer], feed_dict={x: batch_x, \n\u001b[1;32m     82\u001b[0m                                              \u001b[0my_\u001b[0m\u001b[0;34m:\u001b[0m \u001b[0mbatch_y\u001b[0m\u001b[0;34m,\u001b[0m\u001b[0;34m\u001b[0m\u001b[0;34m\u001b[0m\u001b[0m\n\u001b[0;32m---> 83\u001b[0;31m                                              pkeep: training_dropout})\n\u001b[0m\u001b[1;32m     84\u001b[0m \u001b[0;34m\u001b[0m\u001b[0m\n\u001b[1;32m     85\u001b[0m         \u001b[0;31m# Display logs after every 10 epochs\u001b[0m\u001b[0;34m\u001b[0m\u001b[0;34m\u001b[0m\u001b[0;34m\u001b[0m\u001b[0m\n",
            "\u001b[0;32m/usr/local/lib/python3.6/dist-packages/tensorflow/python/client/session.py\u001b[0m in \u001b[0;36mrun\u001b[0;34m(self, fetches, feed_dict, options, run_metadata)\u001b[0m\n\u001b[1;32m    948\u001b[0m     \u001b[0;32mtry\u001b[0m\u001b[0;34m:\u001b[0m\u001b[0;34m\u001b[0m\u001b[0;34m\u001b[0m\u001b[0m\n\u001b[1;32m    949\u001b[0m       result = self._run(None, fetches, feed_dict, options_ptr,\n\u001b[0;32m--> 950\u001b[0;31m                          run_metadata_ptr)\n\u001b[0m\u001b[1;32m    951\u001b[0m       \u001b[0;32mif\u001b[0m \u001b[0mrun_metadata\u001b[0m\u001b[0;34m:\u001b[0m\u001b[0;34m\u001b[0m\u001b[0;34m\u001b[0m\u001b[0m\n\u001b[1;32m    952\u001b[0m         \u001b[0mproto_data\u001b[0m \u001b[0;34m=\u001b[0m \u001b[0mtf_session\u001b[0m\u001b[0;34m.\u001b[0m\u001b[0mTF_GetBuffer\u001b[0m\u001b[0;34m(\u001b[0m\u001b[0mrun_metadata_ptr\u001b[0m\u001b[0;34m)\u001b[0m\u001b[0;34m\u001b[0m\u001b[0;34m\u001b[0m\u001b[0m\n",
            "\u001b[0;32m/usr/local/lib/python3.6/dist-packages/tensorflow/python/client/session.py\u001b[0m in \u001b[0;36m_run\u001b[0;34m(self, handle, fetches, feed_dict, options, run_metadata)\u001b[0m\n\u001b[1;32m   1171\u001b[0m     \u001b[0;32mif\u001b[0m \u001b[0mfinal_fetches\u001b[0m \u001b[0;32mor\u001b[0m \u001b[0mfinal_targets\u001b[0m \u001b[0;32mor\u001b[0m \u001b[0;34m(\u001b[0m\u001b[0mhandle\u001b[0m \u001b[0;32mand\u001b[0m \u001b[0mfeed_dict_tensor\u001b[0m\u001b[0;34m)\u001b[0m\u001b[0;34m:\u001b[0m\u001b[0;34m\u001b[0m\u001b[0;34m\u001b[0m\u001b[0m\n\u001b[1;32m   1172\u001b[0m       results = self._do_run(handle, final_targets, final_fetches,\n\u001b[0;32m-> 1173\u001b[0;31m                              feed_dict_tensor, options, run_metadata)\n\u001b[0m\u001b[1;32m   1174\u001b[0m     \u001b[0;32melse\u001b[0m\u001b[0;34m:\u001b[0m\u001b[0;34m\u001b[0m\u001b[0;34m\u001b[0m\u001b[0m\n\u001b[1;32m   1175\u001b[0m       \u001b[0mresults\u001b[0m \u001b[0;34m=\u001b[0m \u001b[0;34m[\u001b[0m\u001b[0;34m]\u001b[0m\u001b[0;34m\u001b[0m\u001b[0;34m\u001b[0m\u001b[0m\n",
            "\u001b[0;32m/usr/local/lib/python3.6/dist-packages/tensorflow/python/client/session.py\u001b[0m in \u001b[0;36m_do_run\u001b[0;34m(self, handle, target_list, fetch_list, feed_dict, options, run_metadata)\u001b[0m\n\u001b[1;32m   1348\u001b[0m     \u001b[0;32mif\u001b[0m \u001b[0mhandle\u001b[0m \u001b[0;32mis\u001b[0m \u001b[0;32mNone\u001b[0m\u001b[0;34m:\u001b[0m\u001b[0;34m\u001b[0m\u001b[0;34m\u001b[0m\u001b[0m\n\u001b[1;32m   1349\u001b[0m       return self._do_call(_run_fn, feeds, fetches, targets, options,\n\u001b[0;32m-> 1350\u001b[0;31m                            run_metadata)\n\u001b[0m\u001b[1;32m   1351\u001b[0m     \u001b[0;32melse\u001b[0m\u001b[0;34m:\u001b[0m\u001b[0;34m\u001b[0m\u001b[0;34m\u001b[0m\u001b[0m\n\u001b[1;32m   1352\u001b[0m       \u001b[0;32mreturn\u001b[0m \u001b[0mself\u001b[0m\u001b[0;34m.\u001b[0m\u001b[0m_do_call\u001b[0m\u001b[0;34m(\u001b[0m\u001b[0m_prun_fn\u001b[0m\u001b[0;34m,\u001b[0m \u001b[0mhandle\u001b[0m\u001b[0;34m,\u001b[0m \u001b[0mfeeds\u001b[0m\u001b[0;34m,\u001b[0m \u001b[0mfetches\u001b[0m\u001b[0;34m)\u001b[0m\u001b[0;34m\u001b[0m\u001b[0;34m\u001b[0m\u001b[0m\n",
            "\u001b[0;32m/usr/local/lib/python3.6/dist-packages/tensorflow/python/client/session.py\u001b[0m in \u001b[0;36m_do_call\u001b[0;34m(self, fn, *args)\u001b[0m\n\u001b[1;32m   1354\u001b[0m   \u001b[0;32mdef\u001b[0m \u001b[0m_do_call\u001b[0m\u001b[0;34m(\u001b[0m\u001b[0mself\u001b[0m\u001b[0;34m,\u001b[0m \u001b[0mfn\u001b[0m\u001b[0;34m,\u001b[0m \u001b[0;34m*\u001b[0m\u001b[0margs\u001b[0m\u001b[0;34m)\u001b[0m\u001b[0;34m:\u001b[0m\u001b[0;34m\u001b[0m\u001b[0;34m\u001b[0m\u001b[0m\n\u001b[1;32m   1355\u001b[0m     \u001b[0;32mtry\u001b[0m\u001b[0;34m:\u001b[0m\u001b[0;34m\u001b[0m\u001b[0;34m\u001b[0m\u001b[0m\n\u001b[0;32m-> 1356\u001b[0;31m       \u001b[0;32mreturn\u001b[0m \u001b[0mfn\u001b[0m\u001b[0;34m(\u001b[0m\u001b[0;34m*\u001b[0m\u001b[0margs\u001b[0m\u001b[0;34m)\u001b[0m\u001b[0;34m\u001b[0m\u001b[0;34m\u001b[0m\u001b[0m\n\u001b[0m\u001b[1;32m   1357\u001b[0m     \u001b[0;32mexcept\u001b[0m \u001b[0merrors\u001b[0m\u001b[0;34m.\u001b[0m\u001b[0mOpError\u001b[0m \u001b[0;32mas\u001b[0m \u001b[0me\u001b[0m\u001b[0;34m:\u001b[0m\u001b[0;34m\u001b[0m\u001b[0;34m\u001b[0m\u001b[0m\n\u001b[1;32m   1358\u001b[0m       \u001b[0mmessage\u001b[0m \u001b[0;34m=\u001b[0m \u001b[0mcompat\u001b[0m\u001b[0;34m.\u001b[0m\u001b[0mas_text\u001b[0m\u001b[0;34m(\u001b[0m\u001b[0me\u001b[0m\u001b[0;34m.\u001b[0m\u001b[0mmessage\u001b[0m\u001b[0;34m)\u001b[0m\u001b[0;34m\u001b[0m\u001b[0;34m\u001b[0m\u001b[0m\n",
            "\u001b[0;32m/usr/local/lib/python3.6/dist-packages/tensorflow/python/client/session.py\u001b[0m in \u001b[0;36m_run_fn\u001b[0;34m(feed_dict, fetch_list, target_list, options, run_metadata)\u001b[0m\n\u001b[1;32m   1339\u001b[0m       \u001b[0mself\u001b[0m\u001b[0;34m.\u001b[0m\u001b[0m_extend_graph\u001b[0m\u001b[0;34m(\u001b[0m\u001b[0;34m)\u001b[0m\u001b[0;34m\u001b[0m\u001b[0;34m\u001b[0m\u001b[0m\n\u001b[1;32m   1340\u001b[0m       return self._call_tf_sessionrun(\n\u001b[0;32m-> 1341\u001b[0;31m           options, feed_dict, fetch_list, target_list, run_metadata)\n\u001b[0m\u001b[1;32m   1342\u001b[0m \u001b[0;34m\u001b[0m\u001b[0m\n\u001b[1;32m   1343\u001b[0m     \u001b[0;32mdef\u001b[0m \u001b[0m_prun_fn\u001b[0m\u001b[0;34m(\u001b[0m\u001b[0mhandle\u001b[0m\u001b[0;34m,\u001b[0m \u001b[0mfeed_dict\u001b[0m\u001b[0;34m,\u001b[0m \u001b[0mfetch_list\u001b[0m\u001b[0;34m)\u001b[0m\u001b[0;34m:\u001b[0m\u001b[0;34m\u001b[0m\u001b[0;34m\u001b[0m\u001b[0m\n",
            "\u001b[0;32m/usr/local/lib/python3.6/dist-packages/tensorflow/python/client/session.py\u001b[0m in \u001b[0;36m_call_tf_sessionrun\u001b[0;34m(self, options, feed_dict, fetch_list, target_list, run_metadata)\u001b[0m\n\u001b[1;32m   1427\u001b[0m     return tf_session.TF_SessionRun_wrapper(\n\u001b[1;32m   1428\u001b[0m         \u001b[0mself\u001b[0m\u001b[0;34m.\u001b[0m\u001b[0m_session\u001b[0m\u001b[0;34m,\u001b[0m \u001b[0moptions\u001b[0m\u001b[0;34m,\u001b[0m \u001b[0mfeed_dict\u001b[0m\u001b[0;34m,\u001b[0m \u001b[0mfetch_list\u001b[0m\u001b[0;34m,\u001b[0m \u001b[0mtarget_list\u001b[0m\u001b[0;34m,\u001b[0m\u001b[0;34m\u001b[0m\u001b[0;34m\u001b[0m\u001b[0m\n\u001b[0;32m-> 1429\u001b[0;31m         run_metadata)\n\u001b[0m\u001b[1;32m   1430\u001b[0m \u001b[0;34m\u001b[0m\u001b[0m\n\u001b[1;32m   1431\u001b[0m   \u001b[0;32mdef\u001b[0m \u001b[0m_call_tf_sessionprun\u001b[0m\u001b[0;34m(\u001b[0m\u001b[0mself\u001b[0m\u001b[0;34m,\u001b[0m \u001b[0mhandle\u001b[0m\u001b[0;34m,\u001b[0m \u001b[0mfeed_dict\u001b[0m\u001b[0;34m,\u001b[0m \u001b[0mfetch_list\u001b[0m\u001b[0;34m)\u001b[0m\u001b[0;34m:\u001b[0m\u001b[0;34m\u001b[0m\u001b[0;34m\u001b[0m\u001b[0m\n",
            "\u001b[0;31mKeyboardInterrupt\u001b[0m: "
          ]
        }
      ]
    }
  ]
}